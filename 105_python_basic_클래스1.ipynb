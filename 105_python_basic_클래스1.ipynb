{
 "cells": [
  {
   "cell_type": "markdown",
   "metadata": {},
   "source": [
    "# 1. 객체지향 프로그래밍(Class) I"
   ]
  },
  {
   "cell_type": "markdown",
   "metadata": {},
   "source": [
    "### 1.1 객체와 클래스"
   ]
  },
  {
   "cell_type": "markdown",
   "metadata": {},
   "source": [
    "- 클래스\n",
    "- 인스턴스\n",
    "- 객체(object)"
   ]
  },
  {
   "cell_type": "code",
   "execution_count": null,
   "metadata": {},
   "outputs": [],
   "source": [
    "class Car:\n",
    "    def __init__(self):\n",
    "        self._speed = 0\n",
    "        print('자동차가 생성되었습니다.')\n",
    "\n",
    "    def get_speed(self):\n",
    "        return self._speed\n",
    "\n",
    "    def start(self):\n",
    "        self._speed = 20\n",
    "        print('자동차가 출발합니다.')\n",
    "\n",
    "    def accelerate(self):\n",
    "        self._speed = self._speed + 30\n",
    "        print('자동차가 가속합니다.')\n",
    "\n",
    "    def stop(self):\n",
    "        self._speed = 0\n",
    "        print('자동차가 정지합니다.')"
   ]
  },
  {
   "cell_type": "code",
   "execution_count": null,
   "metadata": {},
   "outputs": [],
   "source": [
    "# Object 생성\n",
    "my_car = Car()"
   ]
  },
  {
   "cell_type": "code",
   "execution_count": null,
   "metadata": {},
   "outputs": [],
   "source": [
    "my_car.start()\n",
    "print('속도 1: ', my_car.get_speed() )"
   ]
  },
  {
   "cell_type": "code",
   "execution_count": null,
   "metadata": {},
   "outputs": [],
   "source": [
    "my_car.accelerate()\n",
    "print('속도 2: ', my_car.get_speed() )"
   ]
  },
  {
   "cell_type": "code",
   "execution_count": null,
   "metadata": {},
   "outputs": [],
   "source": [
    "my_car.stop()\n",
    "print('속도 3: ', my_car.get_speed() )"
   ]
  },
  {
   "cell_type": "markdown",
   "metadata": {},
   "source": [
    "### 1.2 self"
   ]
  },
  {
   "cell_type": "code",
   "execution_count": null,
   "metadata": {},
   "outputs": [],
   "source": [
    "class Car:\n",
    "    def __init__(self):\n",
    "        self._speed = 0\n",
    "\n",
    "    def get_speed(self):\n",
    "        return self._speed\n",
    "\n",
    "    def start(self):\n",
    "        self._speed = 20\n",
    "\n",
    "    def accelerate(self):\n",
    "        self._speed = self._speed + 30\n",
    "\n",
    "    def stop(self):\n",
    "        self._speed = 0"
   ]
  },
  {
   "cell_type": "code",
   "execution_count": null,
   "metadata": {},
   "outputs": [],
   "source": [
    "# Object 생성\n",
    "my_car1 = Car()"
   ]
  },
  {
   "cell_type": "code",
   "execution_count": null,
   "metadata": {},
   "outputs": [],
   "source": [
    "# Object 생성\n",
    "my_car2 = Car()"
   ]
  },
  {
   "cell_type": "code",
   "execution_count": null,
   "metadata": {},
   "outputs": [],
   "source": [
    "my_car1.start()"
   ]
  },
  {
   "cell_type": "code",
   "execution_count": null,
   "metadata": {},
   "outputs": [],
   "source": [
    "my_car2.start()"
   ]
  },
  {
   "cell_type": "code",
   "execution_count": null,
   "metadata": {},
   "outputs": [],
   "source": [
    "my_car1.accelerate()"
   ]
  },
  {
   "cell_type": "code",
   "execution_count": null,
   "metadata": {},
   "outputs": [],
   "source": [
    "my_car2.accelerate()"
   ]
  },
  {
   "cell_type": "code",
   "execution_count": null,
   "metadata": {},
   "outputs": [],
   "source": [
    "my_car2.accelerate()"
   ]
  },
  {
   "cell_type": "code",
   "execution_count": null,
   "metadata": {},
   "outputs": [],
   "source": [
    "print('첫번째 자동차 속도: ', my_car1.get_speed() )"
   ]
  },
  {
   "cell_type": "code",
   "execution_count": null,
   "metadata": {},
   "outputs": [],
   "source": [
    "print('두번째 자동차 속도: ', my_car2.get_speed() )"
   ]
  },
  {
   "cell_type": "code",
   "execution_count": null,
   "metadata": {},
   "outputs": [],
   "source": [
    "my_car1.stop()"
   ]
  },
  {
   "cell_type": "code",
   "execution_count": null,
   "metadata": {},
   "outputs": [],
   "source": [
    "my_car2.stop()"
   ]
  },
  {
   "cell_type": "code",
   "execution_count": null,
   "metadata": {},
   "outputs": [],
   "source": [
    "class Radio:\n",
    "    def __init__(self):\n",
    "        print('라디오가 생성되었습니다.')\n",
    "        pass\n",
    "\n",
    "    def turn_on(self):\n",
    "        print('라디오를 켭니다')\n",
    "        \n",
    "    def turn_off(self):\n",
    "        print('라디오를 끕니다')\n",
    "\n",
    "\n",
    "class Car:\n",
    "    def __init__(self):\n",
    "        self._speed = 0\n",
    "        print('자동차가 생성되었습니다.')\n",
    "        self._radio = Radio()\n",
    "\n",
    "    def get_speed(self):\n",
    "        return self._speed\n",
    "\n",
    "    def start(self):\n",
    "        self._speed = 20\n",
    "        print('자동차가 출발합니다.')\n",
    "\n",
    "    def accelerate(self):\n",
    "        self._speed = self._speed + 30\n",
    "        print('자동차가 가속합니다.')\n",
    "\n",
    "    def stop(self):\n",
    "        self._speed = 0\n",
    "        print('자동차가 정지합니다.')\n",
    "\n",
    "    def turn_on_radio(self):\n",
    "        self._radio.turn_on()\n",
    "\n",
    "    def turn_off_radio(self):\n",
    "        self._radio.turn_off()"
   ]
  },
  {
   "cell_type": "code",
   "execution_count": null,
   "metadata": {},
   "outputs": [],
   "source": [
    "# Object 생성\n",
    "my_car = Car()"
   ]
  },
  {
   "cell_type": "code",
   "execution_count": null,
   "metadata": {},
   "outputs": [],
   "source": [
    "my_car.start()"
   ]
  },
  {
   "cell_type": "code",
   "execution_count": null,
   "metadata": {},
   "outputs": [],
   "source": [
    "my_car.turn_on_radio()"
   ]
  },
  {
   "cell_type": "code",
   "execution_count": null,
   "metadata": {},
   "outputs": [],
   "source": [
    "my_car.accelerate()"
   ]
  },
  {
   "cell_type": "code",
   "execution_count": null,
   "metadata": {},
   "outputs": [],
   "source": [
    "my_car.turn_off_radio()"
   ]
  },
  {
   "cell_type": "code",
   "execution_count": null,
   "metadata": {
    "scrolled": true
   },
   "outputs": [],
   "source": [
    "my_car.stop()"
   ]
  },
  {
   "cell_type": "markdown",
   "metadata": {},
   "source": [
    "### 1.3 모듈과 클래스"
   ]
  },
  {
   "cell_type": "markdown",
   "metadata": {},
   "source": [
    "#### vehicle.py\n",
    "\n",
    "```python\n",
    "\n",
    "def change_km_to_mile(km):\n",
    "    return km * 0.621371\n",
    "\n",
    "def change_mile_to_km(mile):\n",
    "    return mile * 1.609344\n",
    "\n",
    "\n",
    "class Car:\n",
    "    def __init__(self):\n",
    "        self._speed = 0\n",
    "\n",
    "    def get_speed(self):\n",
    "        return self._speed\n",
    "\n",
    "    def start(self):\n",
    "        self._speed = 20\n",
    "\n",
    "    def accelerate(self):\n",
    "        self._speed = self._speed + 30\n",
    "\n",
    "    def stop(self):\n",
    "        self._speed = 0\n",
    "\n",
    "class Truck:\n",
    "    def __init__(self):\n",
    "        self._speed = 0\n",
    "\n",
    "    def get_speed(self):\n",
    "        return self._speed\n",
    "\n",
    "    def start(self):\n",
    "        self._speed = 10\n",
    "\n",
    "    def accelerate(self):\n",
    "        self._speed = self._speed + 20\n",
    "\n",
    "    def stop(self):\n",
    "        self._speed = 0\n",
    "\n",
    "\n",
    "if __name__ == '__main__':\n",
    "    my_car = Car()\n",
    "    my_car.start()\n",
    "    my_car.accelerate()\n",
    "    print('속도: ', my_car.get_speed() )\n",
    "    my_car.stop()\n",
    "```"
   ]
  },
  {
   "cell_type": "code",
   "execution_count": null,
   "metadata": {},
   "outputs": [],
   "source": [
    "import vehicle\n",
    "#import vehicle as vh\n",
    "#from vehicle import *"
   ]
  },
  {
   "cell_type": "code",
   "execution_count": null,
   "metadata": {},
   "outputs": [],
   "source": [
    "# Object 생성\n",
    "my_car = vehicle.Car()\n",
    "#my_car = vh.Car()\n",
    "#my_car = Car()"
   ]
  },
  {
   "cell_type": "code",
   "execution_count": null,
   "metadata": {},
   "outputs": [],
   "source": [
    "my_car.start()"
   ]
  },
  {
   "cell_type": "code",
   "execution_count": null,
   "metadata": {},
   "outputs": [],
   "source": [
    "my_car.accelerate()"
   ]
  },
  {
   "cell_type": "code",
   "execution_count": null,
   "metadata": {},
   "outputs": [],
   "source": [
    "speed_mile = vehicle.change_km_to_mile(my_car.get_speed())\n",
    "#speed_mile = vh.change_km_to_mile(my_car.get_speed())\n",
    "#speed_mile = change_km_to_mile(my_car.get_speed())"
   ]
  },
  {
   "cell_type": "code",
   "execution_count": null,
   "metadata": {},
   "outputs": [],
   "source": [
    "print('속도: ', speed_mile, 'mile' )"
   ]
  },
  {
   "cell_type": "code",
   "execution_count": null,
   "metadata": {},
   "outputs": [],
   "source": [
    "my_car.stop()"
   ]
  },
  {
   "cell_type": "markdown",
   "metadata": {},
   "source": [
    "### 1.4 클래스와 데이터 타입"
   ]
  },
  {
   "cell_type": "code",
   "execution_count": null,
   "metadata": {},
   "outputs": [],
   "source": [
    "type(1)"
   ]
  },
  {
   "cell_type": "code",
   "execution_count": null,
   "metadata": {},
   "outputs": [],
   "source": [
    "type(3.14)"
   ]
  },
  {
   "cell_type": "code",
   "execution_count": null,
   "metadata": {},
   "outputs": [],
   "source": [
    "isinstance(1, int)"
   ]
  },
  {
   "cell_type": "code",
   "execution_count": null,
   "metadata": {},
   "outputs": [],
   "source": [
    "type('Hello World')"
   ]
  },
  {
   "cell_type": "code",
   "execution_count": null,
   "metadata": {},
   "outputs": [],
   "source": [
    "isinstance('Hello World', str)"
   ]
  },
  {
   "cell_type": "code",
   "execution_count": null,
   "metadata": {},
   "outputs": [],
   "source": [
    "type([1,2,3])"
   ]
  },
  {
   "cell_type": "code",
   "execution_count": null,
   "metadata": {},
   "outputs": [],
   "source": [
    "isinstance([1,2,3], list)"
   ]
  },
  {
   "cell_type": "code",
   "execution_count": null,
   "metadata": {},
   "outputs": [],
   "source": [
    "type({'line':1, 'rectangle':2, 'triangle':3})"
   ]
  },
  {
   "cell_type": "code",
   "execution_count": null,
   "metadata": {},
   "outputs": [],
   "source": [
    "isinstance({'line':1, 'rectangle':2, 'triangle':3}, dict)"
   ]
  },
  {
   "cell_type": "code",
   "execution_count": null,
   "metadata": {},
   "outputs": [],
   "source": [
    "from vehicle import *"
   ]
  },
  {
   "cell_type": "code",
   "execution_count": null,
   "metadata": {},
   "outputs": [],
   "source": [
    "my_car = Car()"
   ]
  },
  {
   "cell_type": "code",
   "execution_count": null,
   "metadata": {},
   "outputs": [],
   "source": [
    "type(my_car)"
   ]
  },
  {
   "cell_type": "code",
   "execution_count": null,
   "metadata": {},
   "outputs": [],
   "source": [
    "isinstance(my_car, Car)"
   ]
  },
  {
   "cell_type": "code",
   "execution_count": null,
   "metadata": {},
   "outputs": [],
   "source": [
    "my_truck = Truck()"
   ]
  },
  {
   "cell_type": "code",
   "execution_count": null,
   "metadata": {},
   "outputs": [],
   "source": [
    "type(my_truck)"
   ]
  },
  {
   "cell_type": "code",
   "execution_count": null,
   "metadata": {},
   "outputs": [],
   "source": [
    "isinstance(my_truck, Truck)"
   ]
  },
  {
   "cell_type": "markdown",
   "metadata": {},
   "source": [
    "### 1.5 캡슐화와 접근지정"
   ]
  },
  {
   "cell_type": "markdown",
   "metadata": {},
   "source": [
    "- 캡슐화(encapsulation)\n",
    "- 상속성(inheritance)\n",
    "- 다형성(polymorphism)"
   ]
  },
  {
   "cell_type": "code",
   "execution_count": null,
   "metadata": {},
   "outputs": [],
   "source": [
    "# access_modifiers1\n",
    "\n",
    "class Car:\n",
    "    def __init__(self):\n",
    "        self.price = 2000\n",
    "        self._speed = 0\n",
    "        self.__color = 'red'"
   ]
  },
  {
   "cell_type": "code",
   "execution_count": null,
   "metadata": {},
   "outputs": [],
   "source": [
    "my_car = Car()"
   ]
  },
  {
   "cell_type": "code",
   "execution_count": null,
   "metadata": {},
   "outputs": [],
   "source": [
    "print(my_car.price)"
   ]
  },
  {
   "cell_type": "code",
   "execution_count": null,
   "metadata": {},
   "outputs": [],
   "source": [
    "print(my_car._speed)"
   ]
  },
  {
   "cell_type": "code",
   "execution_count": null,
   "metadata": {},
   "outputs": [],
   "source": [
    "# 오류\n",
    "print(my_car.__color)"
   ]
  },
  {
   "cell_type": "code",
   "execution_count": null,
   "metadata": {},
   "outputs": [],
   "source": [
    "# access_modifiers2\n",
    "\n",
    "class Car:\n",
    "    def __init__(self):\n",
    "        self._price = 0\n",
    "        self._speed = 0\n",
    "        self._color = None\n",
    "\n",
    "    def get_price(self):\n",
    "        return self._price\n",
    "\n",
    "    def set_price(self, value):\n",
    "        self._price = value\n",
    "\n",
    "    def get_speed(self):\n",
    "        return self._speed\n",
    "\n",
    "    def set_speed(self, value):\n",
    "        self._speed = value\n",
    "\n",
    "    def get_color(self):\n",
    "        return self._color\n",
    "\n",
    "    def set_color(self, value):\n",
    "        self._color = value"
   ]
  },
  {
   "cell_type": "code",
   "execution_count": null,
   "metadata": {},
   "outputs": [],
   "source": [
    "my_car = Car()"
   ]
  },
  {
   "cell_type": "code",
   "execution_count": null,
   "metadata": {},
   "outputs": [],
   "source": [
    "my_car.set_price(2000)"
   ]
  },
  {
   "cell_type": "code",
   "execution_count": null,
   "metadata": {},
   "outputs": [],
   "source": [
    "my_car.set_speed(20)"
   ]
  },
  {
   "cell_type": "code",
   "execution_count": null,
   "metadata": {},
   "outputs": [],
   "source": [
    "my_car.set_color('red')"
   ]
  },
  {
   "cell_type": "code",
   "execution_count": null,
   "metadata": {},
   "outputs": [],
   "source": [
    "print('가격: ', my_car.get_price())"
   ]
  },
  {
   "cell_type": "code",
   "execution_count": null,
   "metadata": {},
   "outputs": [],
   "source": [
    "print('속도: ', my_car.get_speed())"
   ]
  },
  {
   "cell_type": "code",
   "execution_count": null,
   "metadata": {},
   "outputs": [],
   "source": [
    "print('색상: ', my_car.get_color())"
   ]
  },
  {
   "cell_type": "markdown",
   "metadata": {},
   "source": [
    "### 1.6 property 이용하기"
   ]
  },
  {
   "cell_type": "code",
   "execution_count": null,
   "metadata": {},
   "outputs": [],
   "source": [
    "# car_property1\n",
    "\n",
    "class Car:\n",
    "    def __init__(self):\n",
    "        self._price = 0\n",
    "        self._speed = 0\n",
    "        self._color = None\n",
    "\n",
    "    @property\n",
    "    def price(self):\n",
    "        return self._price\n",
    "        \n",
    "    @price.setter\n",
    "    def price(self, value):\n",
    "        self._price = value\n",
    "\n",
    "    @property\n",
    "    def speed(self):\n",
    "        return self._speed\n",
    "\n",
    "    @speed.setter\n",
    "    def speed(self, value):\n",
    "        self._speed = value\n",
    "\n",
    "    @property\n",
    "    def color(self):\n",
    "        return self._color\n",
    "\n",
    "    @color.setter\n",
    "    def color(self, value):\n",
    "        self._color = value"
   ]
  },
  {
   "cell_type": "code",
   "execution_count": null,
   "metadata": {},
   "outputs": [],
   "source": [
    "my_car = Car()"
   ]
  },
  {
   "cell_type": "code",
   "execution_count": null,
   "metadata": {},
   "outputs": [],
   "source": [
    "my_car.price = 2000"
   ]
  },
  {
   "cell_type": "code",
   "execution_count": null,
   "metadata": {},
   "outputs": [],
   "source": [
    "my_car.speed = 20"
   ]
  },
  {
   "cell_type": "code",
   "execution_count": null,
   "metadata": {},
   "outputs": [],
   "source": [
    "my_car.color = 'red'"
   ]
  },
  {
   "cell_type": "code",
   "execution_count": null,
   "metadata": {},
   "outputs": [],
   "source": [
    "print('가격: ', my_car.price)"
   ]
  },
  {
   "cell_type": "code",
   "execution_count": null,
   "metadata": {},
   "outputs": [],
   "source": [
    "print('속도: ', my_car.speed)"
   ]
  },
  {
   "cell_type": "code",
   "execution_count": null,
   "metadata": {},
   "outputs": [],
   "source": [
    "print('색상: ', my_car.color)"
   ]
  },
  {
   "cell_type": "code",
   "execution_count": null,
   "metadata": {},
   "outputs": [],
   "source": [
    "# car_property2\n",
    "\n",
    "class Car:\n",
    "    def __init__(self):\n",
    "        self._price = 0\n",
    "        self._speed = 0\n",
    "        self._color = None\n",
    "\n",
    "    def get_price(self):\n",
    "        return self._price\n",
    "        \n",
    "    def set_price(self, value):\n",
    "        self._price = value\n",
    "    \n",
    "    price = property(get_price, set_price)\n",
    "\n",
    "    def get_speed(self):\n",
    "        return self._speed\n",
    "\n",
    "    def set_speed(self, value):\n",
    "        self._speed = value\n",
    "\n",
    "    speed = property(get_speed, set_speed)\n",
    "    \n",
    "    def get_color(self):\n",
    "        return self._color\n",
    "\n",
    "    def set_color(self, value):\n",
    "        self._color = value\n",
    "        \n",
    "    color = property(get_color, set_color)"
   ]
  },
  {
   "cell_type": "code",
   "execution_count": null,
   "metadata": {},
   "outputs": [],
   "source": [
    "my_car = Car()"
   ]
  },
  {
   "cell_type": "code",
   "execution_count": null,
   "metadata": {},
   "outputs": [],
   "source": [
    "my_car.price = 2000"
   ]
  },
  {
   "cell_type": "code",
   "execution_count": null,
   "metadata": {},
   "outputs": [],
   "source": [
    "my_car.speed = 20"
   ]
  },
  {
   "cell_type": "code",
   "execution_count": null,
   "metadata": {},
   "outputs": [],
   "source": [
    "my_car.color = 'red'"
   ]
  },
  {
   "cell_type": "code",
   "execution_count": null,
   "metadata": {},
   "outputs": [],
   "source": [
    "print('가격: ', my_car.price)"
   ]
  },
  {
   "cell_type": "code",
   "execution_count": null,
   "metadata": {},
   "outputs": [],
   "source": [
    "print('속도: ', my_car.speed)"
   ]
  },
  {
   "cell_type": "code",
   "execution_count": null,
   "metadata": {},
   "outputs": [],
   "source": [
    "print('색상: ', my_car.color)"
   ]
  },
  {
   "cell_type": "markdown",
   "metadata": {},
   "source": [
    "### 1.7 예제: 요일 구하기(객체지향)"
   ]
  },
  {
   "cell_type": "code",
   "execution_count": null,
   "metadata": {},
   "outputs": [],
   "source": [
    "# 년월일을 입력받는 함수\n",
    "# 반환값: 년월일을 튜플형태로 반환\n",
    "def input_date():\n",
    "    year  = int(input('년도를 입력하시오: '))\n",
    "    month = int(input('월을 입력하시오: '))\n",
    "    day   = int(input('일을 입력하시오: '))\n",
    "    \n",
    "    return year, month, day\n"
   ]
  },
  {
   "cell_type": "code",
   "execution_count": null,
   "metadata": {},
   "outputs": [],
   "source": [
    "# DayName 클래스\n",
    "\n",
    "class DayName(object):\n",
    "\n",
    "    # DayName 클래스 생성자\n",
    "    def __init__(self, year, month, day):\n",
    "        self._year  = year\n",
    "        self._month = month\n",
    "        self._day   = day\n",
    "        self._name  = None\n",
    "        \n",
    "        self._year_month_days = [0,31,28,31,30,31,30,31,31,30,31,30,31]\n",
    "        self._day_names = ['일요일','월요일','화요일','수요일','목요일','금요일','토요일']\n",
    "        \n",
    "        # 요일을 계산한다\n",
    "        self._calculate_day_name()\n",
    "        \n",
    "    # 윤년인지를 체크하는 메서드\n",
    "    def _is_leap(self, year):\n",
    "        if year % 400 == 0:                 # 400으로 나뉘는 해: 윤년\n",
    "            return True\n",
    "        elif year % 100 == 0:               # 100으로 나뉘는 해: 평년\n",
    "            return False\n",
    "        elif year % 4 == 0:                 # 4으로 나뉘는 해  : 윤년\n",
    "            return True\n",
    "        else:\n",
    "            return False\n",
    "    \n",
    "    # 요일을 계산하는 메서드\n",
    "    def _calculate_day_name(self):\n",
    "    \n",
    "        total_days = 0\n",
    "        \n",
    "        for item in range(1, self._year):\n",
    "            if self._is_leap(item):\n",
    "                total_days = total_days + 366\n",
    "            else:\n",
    "                total_days = total_days + 365\n",
    "\n",
    "        for item in range(1, self._month):\n",
    "            total_days = total_days + self._year_month_days[item]\n",
    "\n",
    "        if month >= 3:\n",
    "            if self._is_leap(self._year):\n",
    "                total_days = total_days + 1\n",
    "\n",
    "        total_days += self._day\n",
    "        remainder = total_days % 7\n",
    "        \n",
    "        self._name = self._day_names[remainder]\n",
    "    \n",
    "    # 요일 이름을 반환하는 메서드\n",
    "    def get_name(self):\n",
    "        return self._name\n",
    "    "
   ]
  },
  {
   "cell_type": "code",
   "execution_count": null,
   "metadata": {},
   "outputs": [],
   "source": [
    "# main\n",
    "\n",
    "year, month, day = input_date()\n",
    "\n",
    "day_name = DayName(year, month, day)\n",
    "\n",
    "print( day_name.get_name())\n"
   ]
  },
  {
   "cell_type": "markdown",
   "metadata": {},
   "source": [
    "### 1.8 예제: 성적 처리 시스템(객체지향)"
   ]
  },
  {
   "cell_type": "code",
   "execution_count": null,
   "metadata": {},
   "outputs": [],
   "source": [
    "# student\n",
    "\n",
    "class Student(object):\n",
    "\n",
    "    def __init__(self, num, name, kor, eng, math):\n",
    "    \n",
    "        # 학생의 속성\n",
    "        self._num  = num\n",
    "        self._name = name\n",
    "        self._kor  = kor\n",
    "        self._eng  = eng\n",
    "        self._math = math\n",
    "        \n",
    "        self._total = 0\n",
    "        self._avg   = 0.0\n",
    "        self._order = 0\n",
    "        \n",
    "        # 총점과 평균을 구한다.\n",
    "        self._calculate_total()\n",
    "        self._calculate_avg()\n",
    "    \n",
    "    def _calculate_total(self):\n",
    "        self._total = self._kor + self._eng + self._math\n",
    "        \n",
    "    def _calculate_avg(self):\n",
    "        self._avg = self._total / 3\n",
    "    \n",
    "    @property\n",
    "    def num(self):\n",
    "        return self._num\n",
    "        \n",
    "    @property\n",
    "    def name(self):\n",
    "        return self._name\n",
    "        \n",
    "    @property\n",
    "    def kor(self):\n",
    "        return self._kor\n",
    "        \n",
    "    @property\n",
    "    def eng(self):\n",
    "        return self._eng\n",
    "        \n",
    "    @property\n",
    "    def math(self):\n",
    "        return self._math\n",
    "        \n",
    "    @property\n",
    "    def total(self):\n",
    "        return self._total\n",
    "        \n",
    "    @property\n",
    "    def avg(self):\n",
    "        return self._avg\n",
    "        \n",
    "    @property\n",
    "    def order(self):\n",
    "        return self._order\n",
    "        \n",
    "    @order.setter\n",
    "    def order(self, value):\n",
    "        self._order = value\n"
   ]
  },
  {
   "cell_type": "code",
   "execution_count": null,
   "metadata": {},
   "outputs": [],
   "source": [
    "# grade_system\n",
    "\n",
    "class StudentGradeSystem(object):\n",
    "\n",
    "    def __init__(self):\n",
    "    \n",
    "        # 학생 객체를 저장할 리스트\n",
    "        self._students = []\n",
    "        \n",
    "        # 반 성적을 저장할 속성\n",
    "        self._class_avg = 0.0\n",
    "        self._kor_avg   = 0.0\n",
    "        self._eng_avg   = 0.0\n",
    "        self._math_avg  = 0.0\n",
    "\n",
    "    # 학생 등수를 구한다.\n",
    "    def _calculate_student_order(self):\n",
    "        temp_students = sorted(self._students, key = lambda x: x.total, reverse = True)\n",
    "        \n",
    "        order = 1\n",
    "        for student in temp_students:\n",
    "            student.order = order\n",
    "            order = order + 1\n",
    "            \n",
    "        self._students = temp_students\n",
    "    \n",
    "    # 반 평균을 구한다.\n",
    "    def _calculate_class_avg(self):\n",
    "        total = 0\n",
    "        \n",
    "        for student in self._students:\n",
    "            total = total + student.total\n",
    "        \n",
    "        self._class_avg = total / len(self._students)\n",
    "\n",
    "    # 국어 평균을 구한다.\n",
    "    def _calculate_kor_avg(self):\n",
    "        total = 0\n",
    "        \n",
    "        for student in self._students:\n",
    "            total = total + student.kor\n",
    "        \n",
    "        self._kor_avg = total / len(self._students)\n",
    "\n",
    "    # 영어 평균을 구한다.\n",
    "    def _calculate_eng_avg(self):\n",
    "        total = 0\n",
    "        \n",
    "        for student in self._students:\n",
    "            total = total + student.eng\n",
    "        \n",
    "        self._eng_avg = total / len(self._students)\n",
    "\n",
    "    # 수학 평균을 구한다.\n",
    "    def _calculate_math_avg(self):\n",
    "        total = 0\n",
    "        \n",
    "        for student in self._students:\n",
    "            total = total + student.math\n",
    "        \n",
    "        self._math_avg = total / len(self._students)\n",
    "\n",
    "    # 반 성적 정보를 구한다.\n",
    "    def _calculate_class_information(self):\n",
    "        self._calculate_class_avg()\n",
    "        self._calculate_kor_avg()\n",
    "        self._calculate_eng_avg()\n",
    "        self._calculate_math_avg()\n",
    "\n",
    "    # 학생 객체를 등록한다.\n",
    "    def register_student(self, student):\n",
    "        self._students.append(student)\n",
    "\n",
    "    # 학생 성적 및 반 성적을 처리한다.\n",
    "    def process(self):\n",
    "        self._calculate_student_order()         # 학생 순위를 구한다.\n",
    "        self._calculate_class_information()     # 반 성적 정보를 구한다.\n",
    "\n",
    "    # 학생 성적을 출력한다.\n",
    "    def print_students(self):\n",
    "        for student in self._students:\n",
    "            print('번호: {:s}, 이름: {:s}, 국어: {:d}, 영어: {:d}, 수학: {:d}, 총점: {:d}, 평균: {:.2f}, 등수: {:d}'.format(\n",
    "                   student.num, student.name,\n",
    "                   student.kor, student.eng, student.math,\n",
    "                   student.total, student.avg, student.order)\n",
    "                 )\n",
    "\n",
    "    # 반 성적 정보를 출력한다.\n",
    "    def print_class_information(self):\n",
    "        print('반 평균  : {:.2f}'.format(self._class_avg))\n",
    "        print('국어 평균: {:.2f}'.format(self._kor_avg)  ) \n",
    "        print('영어 평균: {:.2f}'.format(self._eng_avg)  )\n",
    "        print('수학 평균: {:.2f}'.format(self._math_avg) )\n"
   ]
  },
  {
   "cell_type": "code",
   "execution_count": null,
   "metadata": {},
   "outputs": [],
   "source": [
    "# main\n",
    "\n",
    "student_grade_system = StudentGradeSystem()"
   ]
  },
  {
   "cell_type": "code",
   "execution_count": null,
   "metadata": {},
   "outputs": [],
   "source": [
    "student = Student('1', '김철수', 90, 80, 85)\n",
    "student_grade_system.register_student(student)"
   ]
  },
  {
   "cell_type": "code",
   "execution_count": null,
   "metadata": {},
   "outputs": [],
   "source": [
    "student = Student('2', '박제동', 90, 85, 90)\n",
    "student_grade_system.register_student(student)"
   ]
  },
  {
   "cell_type": "code",
   "execution_count": null,
   "metadata": {},
   "outputs": [],
   "source": [
    "student = Student('3', '홍길동', 80, 80, 80)\n",
    "student_grade_system.register_student(student)"
   ]
  },
  {
   "cell_type": "code",
   "execution_count": null,
   "metadata": {},
   "outputs": [],
   "source": [
    "student_grade_system.process()"
   ]
  },
  {
   "cell_type": "code",
   "execution_count": null,
   "metadata": {},
   "outputs": [],
   "source": [
    "student_grade_system.print_students()"
   ]
  },
  {
   "cell_type": "code",
   "execution_count": null,
   "metadata": {},
   "outputs": [],
   "source": [
    "student_grade_system.print_class_information()"
   ]
  },
  {
   "cell_type": "markdown",
   "metadata": {},
   "source": [
    "---"
   ]
  },
  {
   "cell_type": "code",
   "execution_count": null,
   "metadata": {},
   "outputs": [],
   "source": [
    "# end of file"
   ]
  },
  {
   "cell_type": "code",
   "execution_count": null,
   "metadata": {},
   "outputs": [],
   "source": []
  }
 ],
 "metadata": {
  "kernelspec": {
   "display_name": "Python 3",
   "language": "python",
   "name": "python3"
  },
  "language_info": {
   "codemirror_mode": {
    "name": "ipython",
    "version": 3
   },
   "file_extension": ".py",
   "mimetype": "text/x-python",
   "name": "python",
   "nbconvert_exporter": "python",
   "pygments_lexer": "ipython3",
   "version": "3.8.5"
  },
  "vip": {
   "base_numbering": 1,
   "nav_menu": {},
   "number_sections": true,
   "sideBar": true,
   "title_cell": "Visual Python",
   "title_sidebar": "Visual Python",
   "vip_cell": false,
   "vip_position": {},
   "vip_section_display": true,
   "vip_window_display": false
  },
  "vp": {
   "base_numbering": 1,
   "nav_menu": {},
   "number_sections": true,
   "sideBar": true,
   "title_cell": "VisualPython",
   "title_sidebar": "VisualPython",
   "vpPosition": {
    "height": "calc(100% - 180px)",
    "right": "10px",
    "top": "110px",
    "width": "50%"
   },
   "vp_cell": false,
   "vp_section_display": true,
   "vp_window_display": false
  }
 },
 "nbformat": 4,
 "nbformat_minor": 2
}
