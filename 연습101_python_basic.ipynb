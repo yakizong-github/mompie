{
 "cells": [
  {
   "cell_type": "markdown",
   "metadata": {},
   "source": [
    "# 연습: 파이썬 기초문법"
   ]
  },
  {
   "cell_type": "markdown",
   "metadata": {},
   "source": [
    "---"
   ]
  },
  {
   "cell_type": "code",
   "execution_count": null,
   "metadata": {},
   "outputs": [],
   "source": [
    "money = 10000\n",
    "\n",
    "if money > 3000:\n",
    "    print('택시타기')\n",
    "    print('카카오택시 콜')\n",
    "else:\n",
    "    print('버스타기')\n",
    "    print('걸어가기')"
   ]
  },
  {
   "cell_type": "code",
   "execution_count": null,
   "metadata": {},
   "outputs": [],
   "source": [
    "is_there_money = True\n",
    "if is_there_money:\n",
    "    print('택시타기')\n",
    "else:\n",
    "    print('버스타기')"
   ]
  },
  {
   "cell_type": "code",
   "execution_count": null,
   "metadata": {},
   "outputs": [],
   "source": [
    "money = 3000\n",
    "\n",
    "if money == 3000:\n",
    "    print('버스타기')\n",
    "else:\n",
    "    print('택시타기')"
   ]
  },
  {
   "cell_type": "code",
   "execution_count": null,
   "metadata": {},
   "outputs": [],
   "source": [
    "age = 60\n",
    "\n",
    "if age >= 50:\n",
    "    print('%d살: 50대 이상!' % age)\n",
    "elif 40 <= age < 50:\n",
    "    print('{}살: 40대!'.format(age))\n",
    "elif 30 <= age < 40:\n",
    "    print('{}살: 30대!'.format(age))\n",
    "else:\n",
    "    print('{}살: 20대나 10대군요?'.format(age))"
   ]
  },
  {
   "cell_type": "markdown",
   "metadata": {},
   "source": [
    "---"
   ]
  },
  {
   "cell_type": "code",
   "execution_count": null,
   "metadata": {},
   "outputs": [],
   "source": [
    "increment = 0\n",
    "\n",
    "while increment < 10:\n",
    "    print(increment)\n",
    "    increment += 1"
   ]
  },
  {
   "cell_type": "code",
   "execution_count": null,
   "metadata": {},
   "outputs": [],
   "source": [
    "increment = 10\n",
    "\n",
    "while increment > 0:\n",
    "    print(increment)\n",
    "    increment -= 1"
   ]
  },
  {
   "cell_type": "code",
   "execution_count": null,
   "metadata": {},
   "outputs": [],
   "source": [
    "increment = 10\n",
    "\n",
    "while True:\n",
    "    print(increment)\n",
    "    increment -= 1\n",
    "    if increment == 0:\n",
    "        break"
   ]
  },
  {
   "cell_type": "code",
   "execution_count": null,
   "metadata": {},
   "outputs": [],
   "source": [
    "range(4)"
   ]
  },
  {
   "cell_type": "code",
   "execution_count": null,
   "metadata": {},
   "outputs": [],
   "source": [
    "for item in range(4):\n",
    "    print(item)"
   ]
  },
  {
   "cell_type": "code",
   "execution_count": null,
   "metadata": {},
   "outputs": [],
   "source": [
    "for item in range(1, 4):\n",
    "    print(item)"
   ]
  },
  {
   "cell_type": "code",
   "execution_count": null,
   "metadata": {},
   "outputs": [],
   "source": [
    "for item in range(1, 10, 2):\n",
    "    print(item)"
   ]
  },
  {
   "cell_type": "code",
   "execution_count": null,
   "metadata": {},
   "outputs": [],
   "source": [
    "for item in ['냉장고', '세탁기', '선풍기']:\n",
    "    print(item)"
   ]
  },
  {
   "cell_type": "code",
   "execution_count": null,
   "metadata": {},
   "outputs": [],
   "source": [
    "for item in '세탁기':\n",
    "    print(item)"
   ]
  },
  {
   "cell_type": "markdown",
   "metadata": {},
   "source": [
    "> **Q. 반복문, 조건문을 이용해서 아래 문제를 풀어보세요.**\n",
    "> - 놀이공원 입장비를 계산해보세요!\n",
    "- 입장비는 나이에 따라 다릅니다.\n",
    "- 사용자로부터 입장할 사람의 수를 무한대로 받을 수 있습니다.\n",
    "- 사용자가 엔터를 입력하면 끝나고 지금까지 구한 입장비의 총합을 구해서 출력합니다. "
   ]
  },
  {
   "cell_type": "markdown",
   "metadata": {},
   "source": [
    "알고리즘 (개발 순서)\n",
    "1. 먼저 고객의 나이를 받아 변수에 할당해둔다.\n",
    "2. 해당 변수의 값이 빈값이 아닌동안 아래 내용을 계속 실행한다.\n",
    "3. 조건문을 이용해서 해당 변수의 값이 연령대에 따라 total_price에 합산될 수 있도록 분기처리한다.\n",
    "4. 다 합산되었으면 다시 사용자로부터 값을 입력받아 해당 변수에 할당한다."
   ]
  },
  {
   "cell_type": "code",
   "execution_count": null,
   "metadata": {},
   "outputs": [],
   "source": [
    "# 가격\n",
    "BABY_PRICE  = 1000  # 유아\n",
    "CHILD_PRICE = 2000  # 청소년\n",
    "ADULT_PRICE = 3000  # 성인"
   ]
  },
  {
   "cell_type": "code",
   "execution_count": null,
   "metadata": {},
   "outputs": [],
   "source": [
    "# 연령대\n",
    "BABY_LIMIT  = 2   # 2세 이하는 1000원\n",
    "CHILD_LIMIT = 18  # 18세 이하는 2000원\n",
    "ADULT_LIMIT = 60  # 60세 이하는 3000원, 60세 이후부터 무료"
   ]
  },
  {
   "cell_type": "code",
   "execution_count": null,
   "metadata": {},
   "outputs": [],
   "source": [
    "total_price = 0\n",
    "age = input('고객의 나이를 입력하세요. (엔터는 종료)')\n",
    "\n",
    "while age != '':\n",
    "    age = int(age)\n",
    "    if age <= BABY_LIMIT:\n",
    "        total_price += BABY_PRICE\n",
    "    elif age <= CHILD_LIMIT:\n",
    "        total_price += CHILD_PRICE\n",
    "    elif age <= ADULT_LIMIT:\n",
    "        total_price += ADULT_PRICE\n",
    "    \n",
    "    age = input('고객의 나이를 입력하세요. (엔터는 종료)')\n",
    "\n",
    "print('총 합산 금액은 %d 입니다.' % total_price)"
   ]
  },
  {
   "cell_type": "code",
   "execution_count": null,
   "metadata": {},
   "outputs": [],
   "source": [
    "a = 100\n",
    "b = 10\n",
    "c = 20\n",
    "a = a + c\n",
    "a += 1\n",
    "a++\n",
    "c++\n",
    "c#\n",
    "print(a)"
   ]
  },
  {
   "cell_type": "markdown",
   "metadata": {},
   "source": [
    "---"
   ]
  },
  {
   "cell_type": "code",
   "execution_count": null,
   "metadata": {},
   "outputs": [],
   "source": [
    "name = \"파이썬기본문법\""
   ]
  },
  {
   "cell_type": "code",
   "execution_count": null,
   "metadata": {},
   "outputs": [],
   "source": [
    "for n in name:\n",
    "    print(n)"
   ]
  },
  {
   "cell_type": "code",
   "execution_count": null,
   "metadata": {},
   "outputs": [],
   "source": [
    "for n in name:\n",
    "    print(n, end='')"
   ]
  },
  {
   "cell_type": "code",
   "execution_count": null,
   "metadata": {},
   "outputs": [],
   "source": [
    "print('aaa', end = ' ')\n",
    "print('bbb')"
   ]
  },
  {
   "cell_type": "code",
   "execution_count": null,
   "metadata": {},
   "outputs": [],
   "source": [
    "for idx, n in enumerate(name):\n",
    "    print(idx, n)"
   ]
  },
  {
   "cell_type": "code",
   "execution_count": null,
   "metadata": {},
   "outputs": [],
   "source": [
    "for k, v in [(1,2),(3,4)]:\n",
    "    print(k, v)"
   ]
  },
  {
   "cell_type": "markdown",
   "metadata": {},
   "source": [
    "> **Q. 포수로 시작하는(startswith) 선수를 출력하라**"
   ]
  },
  {
   "cell_type": "code",
   "execution_count": null,
   "metadata": {},
   "outputs": [],
   "source": [
    "players = ['투수 임찬국', '투수 류제국 ', '내야수 오진환 ', ' 내야수 가르시아', ' 포수 정상호 ']"
   ]
  },
  {
   "cell_type": "code",
   "execution_count": null,
   "metadata": {},
   "outputs": [],
   "source": [
    "for item in players:\n",
    "    item = item.strip()\n",
    "    if item.startswith('포수'):\n",
    "        print(item)"
   ]
  },
  {
   "cell_type": "markdown",
   "metadata": {},
   "source": [
    "> **Q. 오진환 -> 오지환으로 바꾸어 출력해 보세요.**"
   ]
  },
  {
   "cell_type": "code",
   "execution_count": null,
   "metadata": {},
   "outputs": [],
   "source": [
    "players = ['투수 임찬국', '투수 류제국 ', '내야수 오진환 ', ' 내야수 가르시아', ' 포수 정상호 ']"
   ]
  },
  {
   "cell_type": "code",
   "execution_count": null,
   "metadata": {},
   "outputs": [],
   "source": [
    "for item in players:\n",
    "    item = item.strip()\n",
    "    if item.endswith('오진환'):\n",
    "        print(item.replace('진', '지'))"
   ]
  },
  {
   "cell_type": "code",
   "execution_count": null,
   "metadata": {},
   "outputs": [],
   "source": [
    "for item in players:\n",
    "    item = item.strip()\n",
    "    if item in ('내야수 오진환'):\n",
    "        print(item.replace('진', '지'))"
   ]
  },
  {
   "cell_type": "markdown",
   "metadata": {},
   "source": [
    "> **Q. 리스트에 있는 원소 중 문자값/Null을 제거한 리스트를 출력하라.**"
   ]
  },
  {
   "cell_type": "code",
   "execution_count": null,
   "metadata": {},
   "outputs": [],
   "source": [
    "lst = [1, 2, -8, None, 12, 0, 'NaN']"
   ]
  },
  {
   "cell_type": "code",
   "execution_count": null,
   "metadata": {},
   "outputs": [],
   "source": [
    "for item in lst:\n",
    "    if item is None:\n",
    "        lst.remove(item)\n",
    "\n",
    "print(lst)"
   ]
  },
  {
   "cell_type": "markdown",
   "metadata": {},
   "source": [
    "> **Q. 동물을 잡아서 출력하라!**\n",
    "\n",
    "> hint) 먼저는 문장 속 단어와 단어를 분리시켜야 합니다. 문자열을 공백을 기준으로 분리시키는 명령어가 무엇인지 생각해보세요."
   ]
  },
  {
   "cell_type": "code",
   "execution_count": null,
   "metadata": {},
   "outputs": [],
   "source": [
    "sentence = \"The quick brown fox jumps over the lazy dog\""
   ]
  },
  {
   "cell_type": "code",
   "execution_count": null,
   "metadata": {},
   "outputs": [],
   "source": [
    "for item in sentence.split(\" \"):\n",
    "    if item in ('fox', 'dog'):\n",
    "        print('animal:', item)"
   ]
  },
  {
   "cell_type": "markdown",
   "metadata": {},
   "source": [
    "> **Q. 포지션과 이름을 구분 지어서 튜플로 저장하고 이를 다시 리스트에 저장해보자.**\n",
    "\n",
    "> **[('투수', '임찬국'), ('투수', '류제국'), ('내야수', '오진환'), ('내야수', '가르시아'), ('포수', '정상호')]**"
   ]
  },
  {
   "cell_type": "code",
   "execution_count": null,
   "metadata": {},
   "outputs": [],
   "source": [
    "players = ['투수 임찬국', '투수 류제국', '내야수 오지환', '내야수 가르시아', '포수 정상호']"
   ]
  },
  {
   "cell_type": "code",
   "execution_count": null,
   "metadata": {},
   "outputs": [],
   "source": [
    "new_players = []\n",
    "for player in players:\n",
    "    p = player.split(\" \")\n",
    "    new_players.append((p[0], p[1]))\n",
    "\n",
    "print(new_players)"
   ]
  },
  {
   "cell_type": "markdown",
   "metadata": {},
   "source": [
    "> **Q. 아래 중첩 리스트로 구현된 4층짜리 아파트 호수가 있습니다. **\n",
    "\n",
    "> \n",
    "```python\n",
    "apart = [[101, 102, 103, 104], [201, 202, 203, 204], [301, 302, 302, 303], [401, 402, 403, 404]]\n",
    "unsubscribed = [101, 203, 301, 404]\n",
    "```"
   ]
  },
  {
   "cell_type": "code",
   "execution_count": null,
   "metadata": {},
   "outputs": [],
   "source": [
    "apart = [[101, 102, 103, 104], [201, 202, 203, 204], [301, 302, 302, 303], [401, 402, 403, 404]]\n",
    "unsubscribed = [101, 203, 301, 404]\n",
    "\n",
    "for floor in apart:\n",
    "    for house in floor:\n",
    "        if house in unsubscribed:\n",
    "            continue\n",
    "        else:\n",
    "            print(\"Newspaper delivery: \", house)"
   ]
  },
  {
   "cell_type": "markdown",
   "metadata": {},
   "source": [
    "#### 리스트 슬라이싱"
   ]
  },
  {
   "cell_type": "code",
   "execution_count": null,
   "metadata": {},
   "outputs": [],
   "source": [
    "a_list = [1, 2, 3, 4, 5]    # list\n",
    "\n",
    "a_list[2]    == 3           # 특정 위치의 원소 참조. 참조번호는 0번부터 시작.\n",
    "a_list[-1]   == 5           # 음수인 경우, 뒤에서부터 접근.\n",
    "a_list[2:4]  == [3,4,5]     # 참조번호 2부터 4까지를 잘라서(slice) 반환함.\n",
    "a_list[2:]   == [3,4,5]     # 참조번호 2부터 끝까지를 잘라서(slice) 반환함.\n",
    "a_list[:2]   == [1,2]       # 처음부터 참조번호 2까지를 잘라서(slice) 반환함.\n",
    "a_list[2::2] == [3,5]       # 참조번호 2부터 끝까지를 자르되, 2칸씩 건너뛰면서 잘라서(slice) 반환함."
   ]
  },
  {
   "cell_type": "markdown",
   "metadata": {},
   "source": [
    "> **Q. 아래 리스트에서 포지션을 제외하고 이름만 출력해보세요.**\n",
    "\n",
    "> **['투수 임찬국', '투수 류제국', '내야수 오지환', '포수 정상호']**"
   ]
  },
  {
   "cell_type": "code",
   "execution_count": null,
   "metadata": {},
   "outputs": [],
   "source": [
    "players = ['투수 임찬국', '투수 류제국', '내야수 오지환', '포수 정상호']"
   ]
  },
  {
   "cell_type": "code",
   "execution_count": null,
   "metadata": {},
   "outputs": [],
   "source": [
    "for p in players:\n",
    "    print(p[-3:])"
   ]
  },
  {
   "cell_type": "markdown",
   "metadata": {},
   "source": [
    "> **Q. 영어 과목의 점수를 출력해보고 미술 과목을 추가해보자.**"
   ]
  },
  {
   "cell_type": "code",
   "execution_count": null,
   "metadata": {},
   "outputs": [],
   "source": [
    "marks = {\n",
    "    '수학': 100,\n",
    "    '영어': 90,\n",
    "    '국어': 80\n",
    "}"
   ]
  },
  {
   "cell_type": "code",
   "execution_count": null,
   "metadata": {},
   "outputs": [],
   "source": [
    "marks['영어']"
   ]
  },
  {
   "cell_type": "code",
   "execution_count": null,
   "metadata": {},
   "outputs": [],
   "source": [
    "marks.get('영어')"
   ]
  },
  {
   "cell_type": "code",
   "execution_count": null,
   "metadata": {},
   "outputs": [],
   "source": [
    "marks['미술'] = 30"
   ]
  },
  {
   "cell_type": "code",
   "execution_count": null,
   "metadata": {},
   "outputs": [],
   "source": [
    "marks"
   ]
  },
  {
   "cell_type": "code",
   "execution_count": null,
   "metadata": {},
   "outputs": [],
   "source": [
    "print(marks.get('English', 100))"
   ]
  },
  {
   "cell_type": "code",
   "execution_count": null,
   "metadata": {},
   "outputs": [],
   "source": [
    "marks['Eng']"
   ]
  },
  {
   "cell_type": "code",
   "execution_count": null,
   "metadata": {},
   "outputs": [],
   "source": [
    "marks['미술'] = 70\n",
    "print(marks)"
   ]
  },
  {
   "cell_type": "code",
   "execution_count": null,
   "metadata": {},
   "outputs": [],
   "source": [
    "marks.keys()"
   ]
  },
  {
   "cell_type": "code",
   "execution_count": null,
   "metadata": {},
   "outputs": [],
   "source": [
    "marks.values()"
   ]
  },
  {
   "cell_type": "code",
   "execution_count": null,
   "metadata": {},
   "outputs": [],
   "source": [
    "marks.items()"
   ]
  },
  {
   "cell_type": "markdown",
   "metadata": {},
   "source": [
    "> **Q. 포지션별로 선수를 모아보세요.**"
   ]
  },
  {
   "cell_type": "code",
   "execution_count": null,
   "metadata": {},
   "outputs": [],
   "source": [
    "players = ['투수 임찬국', '투수 류제국', '내야수 오지환', '내야수 가르시아', '포수 정상호']"
   ]
  },
  {
   "cell_type": "markdown",
   "metadata": {},
   "source": [
    "{\n",
    "'투수': ['임찬국', '류제국'],\n",
    "'내야수': [],\n",
    "'포수': []\n",
    "}"
   ]
  },
  {
   "cell_type": "code",
   "execution_count": null,
   "metadata": {},
   "outputs": [],
   "source": [
    "by_position = {}\n",
    "\n",
    "for p in players:\n",
    "    item = p.split(\" \")\n",
    "    if item[0] not in by_position.keys():\n",
    "        by_position[item[0]] = []\n",
    "    by_position[item[0]].append(item[1])\n",
    "\n",
    "print(by_position)"
   ]
  },
  {
   "cell_type": "markdown",
   "metadata": {},
   "source": [
    "> **Q. 사용자에게 입력받은 단어의 점수를 Score Card에 따라 표시해보세요.**"
   ]
  },
  {
   "cell_type": "code",
   "execution_count": null,
   "metadata": {},
   "outputs": [],
   "source": [
    "alphabets = {\n",
    "    \"D\": 5, \"E\": 4, \"F\": 1, \"G\": 8, \"H\": 1,\n",
    "    \"J\": 7, \"K\": 9, \"L\": 2, \"M\": 1, \"N\": 10, \"O\": 2, \"P\": 7, \"Q\": 6,\n",
    "    \"R\": 8, \"S\": 10, \"T\": 9, \"U\": 3, \"V\": 4, \"W\": 3 , \"X\": 6, \"Y\": 6, \"Z\": 9\n",
    "}"
   ]
  },
  {
   "cell_type": "code",
   "execution_count": null,
   "metadata": {},
   "outputs": [],
   "source": [
    "word = input('단어를 입력하세요.').upper()\n",
    "\n",
    "score = 0\n",
    "for char in word:\n",
    "    score += alphabets.get(char, 0)\n",
    "\n",
    "print(score)"
   ]
  },
  {
   "cell_type": "markdown",
   "metadata": {},
   "source": [
    "> **Q. 3개의 인자값을 받아 평균을 반환하는 함수를 만들어보세요.**"
   ]
  },
  {
   "cell_type": "code",
   "execution_count": null,
   "metadata": {},
   "outputs": [],
   "source": [
    "def avg(n1, n2, n3):\n",
    "    return sum([n1, n2, n3]) / 3\n",
    "\n",
    "print(avg(1, 2, 3))"
   ]
  },
  {
   "cell_type": "markdown",
   "metadata": {},
   "source": [
    "> **Q. 미국에 있는 주(State)의 수도는 무엇인지 출력하는 함수 `find_capital`를 만들어보세요.**"
   ]
  },
  {
   "cell_type": "code",
   "execution_count": null,
   "metadata": {},
   "outputs": [],
   "source": [
    "# 미국의 주의 수도를 찾는 함수를 만드세요.\n",
    "STATES_CAPITALS = {\n",
    "    'Alabama': 'Montgomery',\n",
    "    'Alaska': 'Juneau',\n",
    "    'Arizona': 'Phoenix',\n",
    "    'Wyoming': 'Cheyenne',\n",
    "}\n",
    "\n",
    "# Write your code below.\n",
    "def find_capital(name):\n",
    "    return STATES_CAPITALS.get(name)\n",
    "\n",
    "print(find_capital('Alabama'))"
   ]
  },
  {
   "cell_type": "markdown",
   "metadata": {},
   "source": [
    "---"
   ]
  },
  {
   "cell_type": "code",
   "execution_count": null,
   "metadata": {},
   "outputs": [],
   "source": [
    "# end of file"
   ]
  },
  {
   "cell_type": "code",
   "execution_count": null,
   "metadata": {},
   "outputs": [],
   "source": []
  }
 ],
 "metadata": {
  "kernelspec": {
   "display_name": "Python 3",
   "language": "python",
   "name": "python3"
  },
  "language_info": {
   "codemirror_mode": {
    "name": "ipython",
    "version": 3
   },
   "file_extension": ".py",
   "mimetype": "text/x-python",
   "name": "python",
   "nbconvert_exporter": "python",
   "pygments_lexer": "ipython3",
   "version": "3.8.5"
  },
  "vp": {
   "base_numbering": 1,
   "nav_menu": {},
   "number_sections": true,
   "sideBar": true,
   "title_cell": "VisualPython",
   "title_sidebar": "VisualPython",
   "vpPosition": {
    "height": "calc(100% - 180px)",
    "right": "10px",
    "top": "150px",
    "width": "50%"
   },
   "vp_cell": false,
   "vp_section_display": true,
   "vp_window_display": false
  }
 },
 "nbformat": 4,
 "nbformat_minor": 2
}
