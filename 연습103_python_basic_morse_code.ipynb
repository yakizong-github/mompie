{
 "cells": [
  {
   "cell_type": "markdown",
   "metadata": {},
   "source": [
    "# 1. Morse code"
   ]
  },
  {
   "cell_type": "code",
   "execution_count": null,
   "metadata": {},
   "outputs": [],
   "source": [
    "# 모스부호\n",
    "dic = {\n",
    "    '.-': 'A', '-...': 'B', '-.-.': 'C', '-..': 'D', '.':'E', '..-.': 'F',\n",
    "    '--.': 'G', '....': 'H', '..': 'I', '.---': 'J', '-.-': 'K', '.-..': 'L',\n",
    "    '--': 'M', '-.': 'N', '---': 'O', '.--.': 'P', '--.-': 'Q', '.-.': 'R',\n",
    "    '...': 'S', '-': 'T', '..-': 'U', '...-': 'V', '.--': 'W', '-..-': 'X',\n",
    "    '-.--': 'Y', '--..': 'Z'\n",
    "}\n",
    " "
   ]
  },
  {
   "cell_type": "code",
   "execution_count": null,
   "metadata": {},
   "outputs": [],
   "source": [
    "dic_r = { v:k for k,v in dic.items()}"
   ]
  },
  {
   "cell_type": "code",
   "execution_count": null,
   "metadata": {},
   "outputs": [],
   "source": [
    "def m_encode( alph ):\n",
    "    alph = alph.upper()\n",
    "    code = ''\n",
    "    for word in alph.split():\n",
    "        for char in word:\n",
    "            code += dic_r.get(char, 'X') + ' '\n",
    "        code += ' '\n",
    "    return code.strip()"
   ]
  },
  {
   "cell_type": "code",
   "execution_count": null,
   "metadata": {},
   "outputs": [],
   "source": [
    "def m_decode( code ):\n",
    "    alph = ''\n",
    "    for word in code.split('  '):\n",
    "        for char in word.split():\n",
    "            alph += dic.get(char, 'X')\n",
    "        alph += ' '\n",
    "    return alph.strip()"
   ]
  },
  {
   "cell_type": "code",
   "execution_count": null,
   "metadata": {},
   "outputs": [],
   "source": [
    "choice = None\n",
    "\n",
    "while True:\n",
    "    print('1. Encoding         : 문자열 --> 암호문')\n",
    "    print('2. Decoding         : 암호문 --> 문자열')\n",
    "    print('3. Encoding-Decoding: 문자열 --> 암호문 --> 문자열')\n",
    "    print('q. 종료')\n",
    "    \n",
    "    choice = input('메뉴를 선택하시오: ')\n",
    "    \n",
    "    if choice == '1':\n",
    "        print('Encoding: 문자열 --> 암호문')\n",
    "        alph = input('문자열을 입력하시오: ')\n",
    "        res = m_encode(alph)\n",
    "        print()\n",
    "        print('입력 문자열: [{}]'.format(alph) )\n",
    "    elif choice == '2':\n",
    "        print('Decoding: 암호문 --> 문자열')\n",
    "        code = input('코드를 입력하시오: ')\n",
    "        res = m_decode(code)\n",
    "        print()\n",
    "        print('입력 코드: [{}]'.format(code) )\n",
    "    elif choice == '3':\n",
    "        print('Encoding-Decoding: 문자열 --> 암호문 --> 문자열')\n",
    "        alph = input('문자열을 입력하시오: ')\n",
    "        code = m_encode(alph)\n",
    "        res  = m_decode(code)\n",
    "        print()\n",
    "        print('입력 문자열  : [{}]'.format(alph) )\n",
    "        print('암호화된 코드: [{}]'.format(code) )\n",
    "    elif choice == 'q' or choice == 'quit' or choice == 'exit':\n",
    "        print('종료합니다.')\n",
    "        break\n",
    "    else:\n",
    "        print('잘못된 선택을 했습니다.')\n",
    "        continue\n",
    "        \n",
    "    print('==> 출력: [{}]'.format(res) )\n",
    "    print()\n"
   ]
  },
  {
   "cell_type": "markdown",
   "metadata": {},
   "source": [
    "---"
   ]
  },
  {
   "cell_type": "code",
   "execution_count": null,
   "metadata": {},
   "outputs": [],
   "source": [
    "# end of file"
   ]
  },
  {
   "cell_type": "code",
   "execution_count": null,
   "metadata": {},
   "outputs": [],
   "source": []
  }
 ],
 "metadata": {
  "kernelspec": {
   "display_name": "Python 3",
   "language": "python",
   "name": "python3"
  },
  "language_info": {
   "codemirror_mode": {
    "name": "ipython",
    "version": 3
   },
   "file_extension": ".py",
   "mimetype": "text/x-python",
   "name": "python",
   "nbconvert_exporter": "python",
   "pygments_lexer": "ipython3",
   "version": "3.8.5"
  },
  "vp": {
   "base_numbering": 1,
   "nav_menu": {},
   "number_sections": true,
   "sideBar": true,
   "title_cell": "VisualPython",
   "title_sidebar": "VisualPython",
   "vpPosition": {
    "height": "calc(100% - 180px)",
    "right": "10px",
    "top": "150px",
    "width": "50%"
   },
   "vp_cell": false,
   "vp_section_display": true,
   "vp_window_display": false
  }
 },
 "nbformat": 4,
 "nbformat_minor": 2
}
